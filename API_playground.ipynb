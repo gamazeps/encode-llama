{
 "cells": [
  {
   "cell_type": "code",
   "execution_count": 1,
   "id": "a25940ff-b52d-4dae-bec8-6e6414272cc1",
   "metadata": {},
   "outputs": [],
   "source": [
    "import gtfparse\n",
    "import pandas as pd"
   ]
  },
  {
   "cell_type": "code",
   "execution_count": null,
   "id": "c0a8b8b9-e89d-4bf7-ac7a-81b1ae83edce",
   "metadata": {},
   "outputs": [],
   "source": [
    "# runs for ~ 1 minute\n",
    "gtf = gtfparse.read_gtf('data/gencode.v40.annotation.gtf.gz')"
   ]
  },
  {
   "cell_type": "code",
   "execution_count": null,
   "id": "0ce70d21-e99a-4d4f-94bd-a9c90dfa125a",
   "metadata": {},
   "outputs": [],
   "source": [
    "df = gtf.to_pandas()"
   ]
  },
  {
   "cell_type": "code",
   "execution_count": null,
   "id": "33013bf2-e25e-400f-b8dc-69f684837f73",
   "metadata": {},
   "outputs": [],
   "source": [
    "# What are the transcripts for the DMD gene ?\n",
    "df[df['gene_name'] == 'DMD']['transcript_id'].unique()\n",
    "# Note that there is an empty transcript id"
   ]
  },
  {
   "cell_type": "code",
   "execution_count": null,
   "id": "f1317847-28be-4e1e-9f47-7184ce82ca8a",
   "metadata": {},
   "outputs": [],
   "source": [
    "# What is the name of the gene associated with transcript ENST00000684350.1\n",
    "df[(df['transcript_id'] == 'ENST00000684350.1') & (df['feature'] == 'transcript')]['gene_name']"
   ]
  },
  {
   "cell_type": "code",
   "execution_count": null,
   "id": "651e7c21-1dd5-4bf2-9ae0-28bd5380734d",
   "metadata": {},
   "outputs": [],
   "source": [
    "# how many exons does transcript ENST00000684350.1 have\n",
    "df[(df['transcript_id'] == 'ENST00000684350.1') & (df['feature'] == 'exon')].shape[0]"
   ]
  }
 ],
 "metadata": {
  "kernelspec": {
   "display_name": "Python 3 (ipykernel)",
   "language": "python",
   "name": "python3"
  },
  "language_info": {
   "codemirror_mode": {
    "name": "ipython",
    "version": 3
   },
   "file_extension": ".py",
   "mimetype": "text/x-python",
   "name": "python",
   "nbconvert_exporter": "python",
   "pygments_lexer": "ipython3",
   "version": "3.10.8"
  }
 },
 "nbformat": 4,
 "nbformat_minor": 5
}
